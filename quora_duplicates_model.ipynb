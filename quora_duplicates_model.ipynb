{
  "nbformat": 4,
  "nbformat_minor": 0,
  "metadata": {
    "colab": {
      "name": "quora_duplicates_model.ipynb",
      "version": "0.3.2",
      "provenance": [],
      "collapsed_sections": [],
      "include_colab_link": true
    },
    "kernelspec": {
      "name": "python3",
      "display_name": "Python 3"
    },
    "accelerator": "TPU"
  },
  "cells": [
    {
      "cell_type": "markdown",
      "metadata": {
        "id": "view-in-github",
        "colab_type": "text"
      },
      "source": [
        "<a href=\"https://colab.research.google.com/github/samsenko/quora-duplicates/blob/master/quora_duplicates_model.ipynb\" target=\"_parent\"><img src=\"https://colab.research.google.com/assets/colab-badge.svg\" alt=\"Open In Colab\"/></a>"
      ]
    },
    {
      "metadata": {
        "id": "3NETAuLT1iSB",
        "colab_type": "text"
      },
      "cell_type": "markdown",
      "source": [
        "\n",
        "\n",
        "---\n",
        "\n",
        "\n",
        "\n",
        "**To do:** Reduce number of Epochs to 60; Reduce dropout rate; Figure out how to load model in less time than it takes to train model\n",
        "\n",
        "---"
      ]
    },
    {
      "metadata": {
        "id": "Z9DjjMf-2R03",
        "colab_type": "code",
        "outputId": "0f2c7be5-afc1-4c1f-ac40-e54d8433e553",
        "colab": {
          "base_uri": "https://localhost:8080/",
          "height": 34
        }
      },
      "cell_type": "code",
      "source": [
        "import spacy\n",
        "import tensorflow as tf\n",
        "import numpy as np\n",
        "import zlib\n",
        "import glob\n",
        "import os\n",
        "\n",
        "from contextlib import suppress\n",
        "from collections import defaultdict, Counter\n",
        "\n",
        "from keras.preprocessing.text import Tokenizer, text_to_word_sequence\n",
        "from keras.preprocessing.sequence import pad_sequences\n",
        "\n",
        "from tensorflow.python.keras.layers import Embedding, Input, Activation, Masking, Dense, Dropout, GRU, Bidirectional, BatchNormalization, Lambda, Flatten\n",
        "from tensorflow.python.keras.callbacks import ModelCheckpoint\n",
        "from tensorflow.python.keras.utils import to_categorical\n",
        "from tensorflow.python.keras import Sequential\n",
        "from tensorflow.python.keras.backend import abs\n",
        "\n",
        "tf.logging.set_verbosity('WARN')\n",
        "if 'COLAB_TPU_ADDR' in os.environ:\n",
        "  TPU_WORKER = 'grpc://' + os.environ['COLAB_TPU_ADDR']\n",
        "else:\n",
        "  TPU_WORKER = None"
      ],
      "execution_count": 0,
      "outputs": [
        {
          "output_type": "stream",
          "text": [
            "Using TensorFlow backend.\n"
          ],
          "name": "stderr"
        }
      ]
    },
    {
      "metadata": {
        "id": "tRUzSHsxBeE6",
        "colab_type": "code",
        "outputId": "6b53e745-6173-4199-9430-67fcfbf1fa5d",
        "colab": {
          "base_uri": "https://localhost:8080/",
          "height": 170
        }
      },
      "cell_type": "code",
      "source": [
        "!pip install -U -q PyDrive\n",
        "from pydrive.auth import GoogleAuth\n",
        "from pydrive.drive import GoogleDrive\n",
        "from google.colab import auth\n",
        "from oauth2client.client import GoogleCredentials\n",
        "\n",
        "auth.authenticate_user()\n",
        "gauth = GoogleAuth()\n",
        "gauth.credentials = GoogleCredentials.get_application_default()\n",
        "drive = GoogleDrive(gauth)\n",
        "\n",
        "downloaded = drive.CreateFile({'id':'1VHycjtP6NcpmPFyXJxMd-XykMG0dTpzj'}) \n",
        "downloaded.GetContentFile('quora_embedded.npz') "
      ],
      "execution_count": 0,
      "outputs": [
        {
          "output_type": "stream",
          "text": [
            "\u001b[?25l\r\u001b[K    1% |▎                               | 10kB 19.1MB/s eta 0:00:01\r\u001b[K    2% |▋                               | 20kB 2.3MB/s eta 0:00:01\r\u001b[K    3% |█                               | 30kB 3.4MB/s eta 0:00:01\r\u001b[K    4% |█▎                              | 40kB 2.2MB/s eta 0:00:01\r\u001b[K    5% |█▋                              | 51kB 2.7MB/s eta 0:00:01\r\u001b[K    6% |██                              | 61kB 3.2MB/s eta 0:00:01\r\u001b[K    7% |██▎                             | 71kB 3.6MB/s eta 0:00:01\r\u001b[K    8% |██▋                             | 81kB 4.1MB/s eta 0:00:01\r\u001b[K    9% |███                             | 92kB 4.6MB/s eta 0:00:01\r\u001b[K    10% |███▎                            | 102kB 3.5MB/s eta 0:00:01\r\u001b[K    11% |███▋                            | 112kB 3.5MB/s eta 0:00:01\r\u001b[K    12% |████                            | 122kB 4.9MB/s eta 0:00:01\r\u001b[K    13% |████▎                           | 133kB 4.9MB/s eta 0:00:01\r\u001b[K    14% |████▋                           | 143kB 9.0MB/s eta 0:00:01\r\u001b[K    15% |█████                           | 153kB 9.1MB/s eta 0:00:01\r\u001b[K    16% |█████▎                          | 163kB 9.1MB/s eta 0:00:01\r\u001b[K    17% |█████▋                          | 174kB 9.0MB/s eta 0:00:01\r\u001b[K    18% |██████                          | 184kB 9.0MB/s eta 0:00:01\r\u001b[K    19% |██████▎                         | 194kB 9.0MB/s eta 0:00:01\r\u001b[K    20% |██████▋                         | 204kB 37.9MB/s eta 0:00:01\r\u001b[K    21% |███████                         | 215kB 10.5MB/s eta 0:00:01\r\u001b[K    22% |███████▎                        | 225kB 10.5MB/s eta 0:00:01\r\u001b[K    23% |███████▋                        | 235kB 10.6MB/s eta 0:00:01\r\u001b[K    24% |████████                        | 245kB 10.6MB/s eta 0:00:01\r\u001b[K    25% |████████▎                       | 256kB 10.6MB/s eta 0:00:01\r\u001b[K    26% |████████▋                       | 266kB 10.1MB/s eta 0:00:01\r\u001b[K    27% |█████████                       | 276kB 10.3MB/s eta 0:00:01\r\u001b[K    29% |█████████▎                      | 286kB 10.3MB/s eta 0:00:01\r\u001b[K    30% |█████████▋                      | 296kB 10.3MB/s eta 0:00:01\r\u001b[K    31% |██████████                      | 307kB 10.5MB/s eta 0:00:01\r\u001b[K    32% |██████████▎                     | 317kB 40.7MB/s eta 0:00:01\r\u001b[K    33% |██████████▋                     | 327kB 41.3MB/s eta 0:00:01\r\u001b[K    34% |███████████                     | 337kB 42.4MB/s eta 0:00:01\r\u001b[K    35% |███████████▎                    | 348kB 38.0MB/s eta 0:00:01\r\u001b[K    36% |███████████▋                    | 358kB 38.0MB/s eta 0:00:01\r\u001b[K    37% |████████████                    | 368kB 48.1MB/s eta 0:00:01\r\u001b[K    38% |████████████▎                   | 378kB 48.4MB/s eta 0:00:01\r\u001b[K    39% |████████████▋                   | 389kB 49.3MB/s eta 0:00:01\r\u001b[K    40% |█████████████                   | 399kB 12.9MB/s eta 0:00:01\r\u001b[K    41% |█████████████▎                  | 409kB 12.6MB/s eta 0:00:01\r\u001b[K    42% |█████████████▋                  | 419kB 12.6MB/s eta 0:00:01\r\u001b[K    43% |██████████████                  | 430kB 12.7MB/s eta 0:00:01\r\u001b[K    44% |██████████████▎                 | 440kB 12.7MB/s eta 0:00:01\r\u001b[K    45% |██████████████▋                 | 450kB 12.8MB/s eta 0:00:01\r\u001b[K    46% |███████████████                 | 460kB 12.8MB/s eta 0:00:01\r\u001b[K    47% |███████████████▎                | 471kB 12.8MB/s eta 0:00:01\r\u001b[K    48% |███████████████▋                | 481kB 12.8MB/s eta 0:00:01\r\u001b[K    49% |████████████████                | 491kB 12.8MB/s eta 0:00:01\r\u001b[K    50% |████████████████▎               | 501kB 48.5MB/s eta 0:00:01\r\u001b[K    51% |████████████████▋               | 512kB 47.3MB/s eta 0:00:01\r\u001b[K    52% |█████████████████               | 522kB 48.3MB/s eta 0:00:01\r\u001b[K    53% |█████████████████▎              | 532kB 48.0MB/s eta 0:00:01\r\u001b[K    54% |█████████████████▋              | 542kB 11.1MB/s eta 0:00:01\r\u001b[K    55% |██████████████████              | 552kB 11.1MB/s eta 0:00:01\r\u001b[K    57% |██████████████████▎             | 563kB 11.1MB/s eta 0:00:01\r\u001b[K    58% |██████████████████▋             | 573kB 11.1MB/s eta 0:00:01\r\u001b[K    59% |███████████████████             | 583kB 11.1MB/s eta 0:00:01\r\u001b[K    60% |███████████████████▎            | 593kB 11.0MB/s eta 0:00:01\r\u001b[K    61% |███████████████████▋            | 604kB 11.0MB/s eta 0:00:01\r\u001b[K    62% |████████████████████            | 614kB 11.2MB/s eta 0:00:01\r\u001b[K    63% |████████████████████▎           | 624kB 11.1MB/s eta 0:00:01\r\u001b[K    64% |████████████████████▋           | 634kB 11.1MB/s eta 0:00:01\r\u001b[K    65% |█████████████████████           | 645kB 47.0MB/s eta 0:00:01\r\u001b[K    66% |█████████████████████▎          | 655kB 51.0MB/s eta 0:00:01\r\u001b[K    67% |█████████████████████▋          | 665kB 38.8MB/s eta 0:00:01\r\u001b[K    68% |██████████████████████          | 675kB 38.2MB/s eta 0:00:01\r\u001b[K    69% |██████████████████████▎         | 686kB 38.2MB/s eta 0:00:01\r\u001b[K    70% |██████████████████████▋         | 696kB 38.4MB/s eta 0:00:01\r\u001b[K    71% |███████████████████████         | 706kB 38.0MB/s eta 0:00:01\r\u001b[K    72% |███████████████████████▎        | 716kB 37.3MB/s eta 0:00:01\r\u001b[K    73% |███████████████████████▋        | 727kB 36.8MB/s eta 0:00:01\r\u001b[K    74% |████████████████████████        | 737kB 35.8MB/s eta 0:00:01\r\u001b[K    75% |████████████████████████▎       | 747kB 35.6MB/s eta 0:00:01\r\u001b[K    76% |████████████████████████▋       | 757kB 34.7MB/s eta 0:00:01\r\u001b[K    77% |████████████████████████▉       | 768kB 43.2MB/s eta 0:00:01\r\u001b[K    78% |█████████████████████████▏      | 778kB 42.7MB/s eta 0:00:01\r\u001b[K    79% |█████████████████████████▌      | 788kB 40.7MB/s eta 0:00:01\r\u001b[K    80% |█████████████████████████▉      | 798kB 39.1MB/s eta 0:00:01\r\u001b[K    81% |██████████████████████████▏     | 808kB 39.2MB/s eta 0:00:01\r\u001b[K    82% |██████████████████████████▌     | 819kB 38.9MB/s eta 0:00:01\r\u001b[K    83% |██████████████████████████▉     | 829kB 38.4MB/s eta 0:00:01\r\u001b[K    85% |███████████████████████████▏    | 839kB 38.3MB/s eta 0:00:01\r\u001b[K    86% |███████████████████████████▌    | 849kB 38.2MB/s eta 0:00:01\r\u001b[K    87% |███████████████████████████▉    | 860kB 34.1MB/s eta 0:00:01\r\u001b[K    88% |████████████████████████████▏   | 870kB 34.0MB/s eta 0:00:01\r\u001b[K    89% |████████████████████████████▌   | 880kB 34.3MB/s eta 0:00:01\r\u001b[K    90% |████████████████████████████▉   | 890kB 34.7MB/s eta 0:00:01\r\u001b[K    91% |█████████████████████████████▏  | 901kB 34.2MB/s eta 0:00:01\r\u001b[K    92% |█████████████████████████████▌  | 911kB 34.4MB/s eta 0:00:01\r\u001b[K    93% |█████████████████████████████▉  | 921kB 34.4MB/s eta 0:00:01\r\u001b[K    94% |██████████████████████████████▏ | 931kB 34.5MB/s eta 0:00:01\r\u001b[K    95% |██████████████████████████████▌ | 942kB 34.5MB/s eta 0:00:01\r\u001b[K    96% |██████████████████████████████▉ | 952kB 34.2MB/s eta 0:00:01\r\u001b[K    97% |███████████████████████████████▏| 962kB 39.5MB/s eta 0:00:01\r\u001b[K    98% |███████████████████████████████▌| 972kB 39.2MB/s eta 0:00:01\r\u001b[K    99% |███████████████████████████████▉| 983kB 38.7MB/s eta 0:00:01\r\u001b[K    100% |████████████████████████████████| 993kB 7.8MB/s \n",
            "\u001b[?25h  Building wheel for PyDrive (setup.py) ... \u001b[?25ldone\n",
            "\u001b[?25h\n",
            "WARNING: The TensorFlow contrib module will not be included in TensorFlow 2.0.\n",
            "For more information, please see:\n",
            "  * https://github.com/tensorflow/community/blob/master/rfcs/20180907-contrib-sunset.md\n",
            "  * https://github.com/tensorflow/addons\n",
            "If you depend on functionality not listed there, please file an issue.\n",
            "\n"
          ],
          "name": "stdout"
        }
      ]
    },
    {
      "metadata": {
        "id": "7O1SRx9e3jr9",
        "colab_type": "code",
        "colab": {}
      },
      "cell_type": "code",
      "source": [
        "loaded = np.load('quora_embedded.npz')"
      ],
      "execution_count": 0,
      "outputs": []
    },
    {
      "metadata": {
        "id": "M422Upw-C83q",
        "colab_type": "code",
        "colab": {}
      },
      "cell_type": "code",
      "source": [
        "emb1, emb2, targets = loaded['a'], loaded['b'], loaded['c']"
      ],
      "execution_count": 0,
      "outputs": []
    },
    {
      "metadata": {
        "id": "phIYzbhTDrWB",
        "colab_type": "code",
        "outputId": "856ada24-f4eb-43b7-ff85-7ecd795647e9",
        "colab": {
          "base_uri": "https://localhost:8080/",
          "height": 34
        }
      },
      "cell_type": "code",
      "source": [
        "print(emb1.shape, emb2.shape, targets[:50000].shape)"
      ],
      "execution_count": 0,
      "outputs": [
        {
          "output_type": "stream",
          "text": [
            "(50000, 30, 300) (50000, 30, 300) (50000,)\n"
          ],
          "name": "stdout"
        }
      ]
    },
    {
      "metadata": {
        "id": "Gix_BgZI3_Rm",
        "colab_type": "code",
        "colab": {}
      },
      "cell_type": "code",
      "source": [
        "def get_siamese_model(input_shape):\n",
        "    \"\"\"\n",
        "        Model architecture\n",
        "    \"\"\"\n",
        "    \n",
        "    # Define the tensors for the two input questions\n",
        "    left_input = Input(shape = input_shape)\n",
        "    right_input = Input(shape = input_shape)\n",
        "    \n",
        "    # Recurrent Neural Network\n",
        "    model = Sequential()\n",
        "    gru = Bidirectional(\n",
        "        GRU(\n",
        "            256,\n",
        "            dropout=0.5,\n",
        "            recurrent_dropout=0.5,\n",
        "            return_sequences=True,\n",
        "        )\n",
        "    )\n",
        "    norm = BatchNormalization()\n",
        "    dense = Dense(1024)\n",
        "    flatten = Flatten()\n",
        "    \n",
        "    model.add(gru)\n",
        "    model.add(norm)\n",
        "    model.add(flatten)\n",
        "    model.add(dense)\n",
        "    \n",
        "    # Generate the encodings (feature vectors) for the two questions\n",
        "    encoded_l = model(left_input)\n",
        "    encoded_r = model(right_input)\n",
        "    \n",
        "    # Add a customized layer to compute the absolute difference between the encodings\n",
        "    L1_layer = Lambda(lambda tensors:abs(tensors[0] - tensors[1]))\n",
        "    L1_distance = L1_layer([encoded_l, encoded_r])\n",
        "    \n",
        "    # Add a dense layer with a sigmoid unit to generate the similarity score\n",
        "    prediction = Dense(1,activation='sigmoid')(L1_distance)\n",
        "    \n",
        "    # Connect the inputs with the outputs\n",
        "    siamese_net = tf.keras.Model(inputs=[left_input,right_input],outputs=prediction)\n",
        "    \n",
        "    #compile model\n",
        "    siamese_net.summary()\n",
        "    siamese_net.compile(\n",
        "      tf.train.AdamOptimizer(learning_rate=0.0001),\n",
        "      loss='binary_crossentropy',\n",
        "      metrics=['accuracy'],\n",
        "    )\n",
        "    \n",
        "    # return the model\n",
        "    return siamese_net"
      ],
      "execution_count": 0,
      "outputs": []
    },
    {
      "metadata": {
        "id": "k_1N6-Ii--XN",
        "colab_type": "code",
        "outputId": "0cc06fa9-f5f0-4ba6-8ffa-c11c674582e0",
        "colab": {
          "base_uri": "https://localhost:8080/",
          "height": 377
        }
      },
      "cell_type": "code",
      "source": [
        "model = get_siamese_model((30, 300))\n",
        "model = tf.contrib.tpu.keras_to_tpu_model(\n",
        "  model,\n",
        "  strategy=tf.contrib.tpu.TPUDistributionStrategy(\n",
        "    tf.contrib.cluster_resolver.TPUClusterResolver(TPU_WORKER)))"
      ],
      "execution_count": 0,
      "outputs": [
        {
          "output_type": "stream",
          "text": [
            "__________________________________________________________________________________________________\n",
            "Layer (type)                    Output Shape         Param #     Connected to                     \n",
            "==================================================================================================\n",
            "input_35 (InputLayer)           (None, 30, 300)      0                                            \n",
            "__________________________________________________________________________________________________\n",
            "input_36 (InputLayer)           (None, 30, 300)      0                                            \n",
            "__________________________________________________________________________________________________\n",
            "sequential_16 (Sequential)      (None, 1024)         16587264    input_35[0][0]                   \n",
            "                                                                 input_36[0][0]                   \n",
            "__________________________________________________________________________________________________\n",
            "lambda_5 (Lambda)               (None, 1024)         0           sequential_16[0][0]              \n",
            "                                                                 sequential_16[1][0]              \n",
            "__________________________________________________________________________________________________\n",
            "dense_17 (Dense)                (None, 1)            1025        lambda_5[0][0]                   \n",
            "==================================================================================================\n",
            "Total params: 16,588,289\n",
            "Trainable params: 16,587,265\n",
            "Non-trainable params: 1,024\n",
            "__________________________________________________________________________________________________\n",
            "WARNING:tensorflow:tpu_model (from tensorflow.contrib.tpu.python.tpu.keras_support) is experimental and may change or be removed at any time, and without warning.\n"
          ],
          "name": "stdout"
        }
      ]
    },
    {
      "metadata": {
        "id": "PsrkAmryD0PS",
        "colab_type": "code",
        "outputId": "90743f81-35b5-4b6e-a73f-eb56d89d0a1e",
        "colab": {
          "base_uri": "https://localhost:8080/",
          "height": 3471
        }
      },
      "cell_type": "code",
      "source": [
        "model.fit(\n",
        "  [emb1, emb2], targets,\n",
        "  validation_split=0.1,\n",
        "  epochs=100,\n",
        "  batch_size=64,\n",
        ")"
      ],
      "execution_count": 0,
      "outputs": [
        {
          "output_type": "stream",
          "text": [
            "Train on 50000 samples, validate on 5000 samples\n",
            "Epoch 1/100\n",
            "50000/50000 [==============================] - 349s 7ms/sample - loss: 0.8745 - acc: 0.6005 - val_loss: 0.5738 - val_acc: 0.7100\n",
            "Epoch 2/100\n",
            "50000/50000 [==============================] - 73s 1ms/sample - loss: 0.7241 - acc: 0.6502 - val_loss: 0.4699 - val_acc: 0.7590\n",
            "Epoch 3/100\n",
            "50000/50000 [==============================] - 74s 1ms/sample - loss: 0.6180 - acc: 0.6905 - val_loss: 0.4067 - val_acc: 0.7938\n",
            "Epoch 4/100\n",
            "50000/50000 [==============================] - 74s 1ms/sample - loss: 0.5513 - acc: 0.7207 - val_loss: 0.3785 - val_acc: 0.8112\n",
            "Epoch 5/100\n",
            "50000/50000 [==============================] - 73s 1ms/sample - loss: 0.5025 - acc: 0.7469 - val_loss: 0.3165 - val_acc: 0.8416\n",
            "Epoch 6/100\n",
            "50000/50000 [==============================] - 74s 1ms/sample - loss: 0.4620 - acc: 0.7693 - val_loss: 0.2827 - val_acc: 0.8640\n",
            "Epoch 7/100\n",
            "50000/50000 [==============================] - 73s 1ms/sample - loss: 0.4271 - acc: 0.7899 - val_loss: 0.2607 - val_acc: 0.8824\n",
            "Epoch 8/100\n",
            "50000/50000 [==============================] - 73s 1ms/sample - loss: 0.4002 - acc: 0.8039 - val_loss: 0.2332 - val_acc: 0.8988\n",
            "Epoch 9/100\n",
            "50000/50000 [==============================] - 72s 1ms/sample - loss: 0.3729 - acc: 0.8195 - val_loss: 0.2214 - val_acc: 0.9026\n",
            "Epoch 10/100\n",
            "50000/50000 [==============================] - 72s 1ms/sample - loss: 0.3462 - acc: 0.8353 - val_loss: 0.1980 - val_acc: 0.9202\n",
            "Epoch 11/100\n",
            "50000/50000 [==============================] - 73s 1ms/sample - loss: 0.3236 - acc: 0.8490 - val_loss: 0.1779 - val_acc: 0.9276\n",
            "Epoch 12/100\n",
            "50000/50000 [==============================] - 73s 1ms/sample - loss: 0.3000 - acc: 0.8633 - val_loss: 0.1580 - val_acc: 0.9326\n",
            "Epoch 13/100\n",
            "50000/50000 [==============================] - 74s 1ms/sample - loss: 0.2823 - acc: 0.8713 - val_loss: 0.1461 - val_acc: 0.9404\n",
            "Epoch 14/100\n",
            "50000/50000 [==============================] - 73s 1ms/sample - loss: 0.2685 - acc: 0.8772 - val_loss: 0.1323 - val_acc: 0.9456\n",
            "Epoch 15/100\n",
            "50000/50000 [==============================] - 74s 1ms/sample - loss: 0.2487 - acc: 0.8887 - val_loss: 0.1204 - val_acc: 0.9500\n",
            "Epoch 16/100\n",
            "50000/50000 [==============================] - 75s 1ms/sample - loss: 0.2356 - acc: 0.8938 - val_loss: 0.1089 - val_acc: 0.9542\n",
            "Epoch 17/100\n",
            "50000/50000 [==============================] - 72s 1ms/sample - loss: 0.2235 - acc: 0.9026 - val_loss: 0.1021 - val_acc: 0.9584\n",
            "Epoch 18/100\n",
            "50000/50000 [==============================] - 73s 1ms/sample - loss: 0.2107 - acc: 0.9080 - val_loss: 0.0918 - val_acc: 0.9628\n",
            "Epoch 19/100\n",
            "50000/50000 [==============================] - 75s 2ms/sample - loss: 0.1963 - acc: 0.9135 - val_loss: 0.0825 - val_acc: 0.9690\n",
            "Epoch 20/100\n",
            "50000/50000 [==============================] - 72s 1ms/sample - loss: 0.1883 - acc: 0.9173 - val_loss: 0.0751 - val_acc: 0.9698\n",
            "Epoch 21/100\n",
            "50000/50000 [==============================] - 73s 1ms/sample - loss: 0.1848 - acc: 0.9208 - val_loss: 0.0730 - val_acc: 0.9712\n",
            "Epoch 22/100\n",
            "50000/50000 [==============================] - 72s 1ms/sample - loss: 0.1771 - acc: 0.9253 - val_loss: 0.0675 - val_acc: 0.9734\n",
            "Epoch 23/100\n",
            "50000/50000 [==============================] - 73s 1ms/sample - loss: 0.1707 - acc: 0.9272 - val_loss: 0.0637 - val_acc: 0.9724\n",
            "Epoch 24/100\n",
            "50000/50000 [==============================] - 73s 1ms/sample - loss: 0.1585 - acc: 0.9330 - val_loss: 0.0588 - val_acc: 0.9754\n",
            "Epoch 25/100\n",
            "50000/50000 [==============================] - 75s 1ms/sample - loss: 0.1569 - acc: 0.9344 - val_loss: 0.0556 - val_acc: 0.9768\n",
            "Epoch 26/100\n",
            "50000/50000 [==============================] - 74s 1ms/sample - loss: 0.1529 - acc: 0.9356 - val_loss: 0.0535 - val_acc: 0.9758\n",
            "Epoch 27/100\n",
            "50000/50000 [==============================] - 74s 1ms/sample - loss: 0.1481 - acc: 0.9373 - val_loss: 0.0520 - val_acc: 0.9764\n",
            "Epoch 28/100\n",
            "50000/50000 [==============================] - 72s 1ms/sample - loss: 0.1419 - acc: 0.9409 - val_loss: 0.0480 - val_acc: 0.9776\n",
            "Epoch 29/100\n",
            "50000/50000 [==============================] - 73s 1ms/sample - loss: 0.1402 - acc: 0.9409 - val_loss: 0.0461 - val_acc: 0.9784\n",
            "Epoch 30/100\n",
            "50000/50000 [==============================] - 74s 1ms/sample - loss: 0.1321 - acc: 0.9437 - val_loss: 0.0445 - val_acc: 0.9810\n",
            "Epoch 31/100\n",
            "50000/50000 [==============================] - 73s 1ms/sample - loss: 0.1321 - acc: 0.9442 - val_loss: 0.0429 - val_acc: 0.9810\n",
            "Epoch 32/100\n",
            "50000/50000 [==============================] - 72s 1ms/sample - loss: 0.1262 - acc: 0.9479 - val_loss: 0.0472 - val_acc: 0.9808\n",
            "Epoch 33/100\n",
            "50000/50000 [==============================] - 73s 1ms/sample - loss: 0.1275 - acc: 0.9471 - val_loss: 0.0423 - val_acc: 0.9828\n",
            "Epoch 34/100\n",
            "50000/50000 [==============================] - 72s 1ms/sample - loss: 0.1251 - acc: 0.9476 - val_loss: 0.0411 - val_acc: 0.9836\n",
            "Epoch 35/100\n",
            "50000/50000 [==============================] - 73s 1ms/sample - loss: 0.1187 - acc: 0.9519 - val_loss: 0.0352 - val_acc: 0.9832\n",
            "Epoch 36/100\n",
            "50000/50000 [==============================] - 73s 1ms/sample - loss: 0.1137 - acc: 0.9533 - val_loss: 0.0358 - val_acc: 0.9830\n",
            "Epoch 37/100\n",
            "50000/50000 [==============================] - 75s 1ms/sample - loss: 0.1100 - acc: 0.9559 - val_loss: 0.0364 - val_acc: 0.9842\n",
            "Epoch 38/100\n",
            "50000/50000 [==============================] - 78s 2ms/sample - loss: 0.1089 - acc: 0.9564 - val_loss: 0.0331 - val_acc: 0.9862\n",
            "Epoch 39/100\n",
            "50000/50000 [==============================] - 76s 2ms/sample - loss: 0.1054 - acc: 0.9565 - val_loss: 0.0348 - val_acc: 0.9850\n",
            "Epoch 40/100\n",
            "50000/50000 [==============================] - 75s 1ms/sample - loss: 0.1055 - acc: 0.9574 - val_loss: 0.0303 - val_acc: 0.9854\n",
            "Epoch 41/100\n",
            "50000/50000 [==============================] - 72s 1ms/sample - loss: 0.1038 - acc: 0.9580 - val_loss: 0.0315 - val_acc: 0.9862\n",
            "Epoch 42/100\n",
            "50000/50000 [==============================] - 73s 1ms/sample - loss: 0.1014 - acc: 0.9596 - val_loss: 0.0294 - val_acc: 0.9850\n",
            "Epoch 43/100\n",
            "50000/50000 [==============================] - 72s 1ms/sample - loss: 0.1049 - acc: 0.9572 - val_loss: 0.0274 - val_acc: 0.9852\n",
            "Epoch 44/100\n",
            "50000/50000 [==============================] - 72s 1ms/sample - loss: 0.0980 - acc: 0.9601 - val_loss: 0.0263 - val_acc: 0.9856\n",
            "Epoch 45/100\n",
            "50000/50000 [==============================] - 75s 2ms/sample - loss: 0.0967 - acc: 0.9612 - val_loss: 0.0270 - val_acc: 0.9854\n",
            "Epoch 46/100\n",
            "50000/50000 [==============================] - 75s 2ms/sample - loss: 0.0969 - acc: 0.9612 - val_loss: 0.0257 - val_acc: 0.9864\n",
            "Epoch 47/100\n",
            "50000/50000 [==============================] - 73s 1ms/sample - loss: 0.0922 - acc: 0.9626 - val_loss: 0.0254 - val_acc: 0.9862\n",
            "Epoch 48/100\n",
            "50000/50000 [==============================] - 73s 1ms/sample - loss: 0.0888 - acc: 0.9644 - val_loss: 0.0279 - val_acc: 0.9864\n",
            "Epoch 49/100\n",
            "50000/50000 [==============================] - 74s 1ms/sample - loss: 0.0904 - acc: 0.9641 - val_loss: 0.0252 - val_acc: 0.9866\n",
            "Epoch 50/100\n",
            "50000/50000 [==============================] - 72s 1ms/sample - loss: 0.0891 - acc: 0.9645 - val_loss: 0.0233 - val_acc: 0.9876\n",
            "Epoch 51/100\n",
            "50000/50000 [==============================] - 71s 1ms/sample - loss: 0.0915 - acc: 0.9635 - val_loss: 0.0261 - val_acc: 0.9878\n",
            "Epoch 52/100\n",
            "50000/50000 [==============================] - 71s 1ms/sample - loss: 0.0894 - acc: 0.9646 - val_loss: 0.0231 - val_acc: 0.9876\n",
            "Epoch 53/100\n",
            "50000/50000 [==============================] - 70s 1ms/sample - loss: 0.0837 - acc: 0.9670 - val_loss: 0.0209 - val_acc: 0.9876\n",
            "Epoch 54/100\n",
            "50000/50000 [==============================] - 71s 1ms/sample - loss: 0.0838 - acc: 0.9665 - val_loss: 0.0248 - val_acc: 0.9874\n",
            "Epoch 55/100\n",
            "50000/50000 [==============================] - 71s 1ms/sample - loss: 0.0797 - acc: 0.9683 - val_loss: 0.0198 - val_acc: 0.9878\n",
            "Epoch 56/100\n",
            "50000/50000 [==============================] - 73s 1ms/sample - loss: 0.0808 - acc: 0.9683 - val_loss: 0.0207 - val_acc: 0.9880\n",
            "Epoch 57/100\n",
            "50000/50000 [==============================] - 71s 1ms/sample - loss: 0.0783 - acc: 0.9689 - val_loss: 0.0208 - val_acc: 0.9880\n",
            "Epoch 58/100\n",
            "50000/50000 [==============================] - 72s 1ms/sample - loss: 0.0782 - acc: 0.9690 - val_loss: 0.0203 - val_acc: 0.9878\n",
            "Epoch 59/100\n",
            "50000/50000 [==============================] - 72s 1ms/sample - loss: 0.0790 - acc: 0.9684 - val_loss: 0.0214 - val_acc: 0.9868\n",
            "Epoch 60/100\n",
            "50000/50000 [==============================] - 71s 1ms/sample - loss: 0.0767 - acc: 0.9700 - val_loss: 0.0202 - val_acc: 0.9876\n",
            "Epoch 61/100\n",
            "50000/50000 [==============================] - 71s 1ms/sample - loss: 0.0772 - acc: 0.9697 - val_loss: 0.0191 - val_acc: 0.9876\n",
            "Epoch 62/100\n",
            "50000/50000 [==============================] - 71s 1ms/sample - loss: 0.0724 - acc: 0.9712 - val_loss: 0.0189 - val_acc: 0.9880\n",
            "Epoch 63/100\n",
            "50000/50000 [==============================] - 71s 1ms/sample - loss: 0.0743 - acc: 0.9706 - val_loss: 0.0183 - val_acc: 0.9876\n",
            "Epoch 64/100\n",
            "50000/50000 [==============================] - 70s 1ms/sample - loss: 0.0729 - acc: 0.9719 - val_loss: 0.0195 - val_acc: 0.9878\n",
            "Epoch 65/100\n",
            "50000/50000 [==============================] - 70s 1ms/sample - loss: 0.0723 - acc: 0.9717 - val_loss: 0.0179 - val_acc: 0.9886\n",
            "Epoch 66/100\n",
            "50000/50000 [==============================] - 70s 1ms/sample - loss: 0.0734 - acc: 0.9708 - val_loss: 0.0185 - val_acc: 0.9884\n",
            "Epoch 67/100\n",
            "50000/50000 [==============================] - 71s 1ms/sample - loss: 0.0720 - acc: 0.9720 - val_loss: 0.0172 - val_acc: 0.9886\n",
            "Epoch 68/100\n",
            "50000/50000 [==============================] - 72s 1ms/sample - loss: 0.0690 - acc: 0.9731 - val_loss: 0.0179 - val_acc: 0.9882\n",
            "Epoch 69/100\n",
            "50000/50000 [==============================] - 72s 1ms/sample - loss: 0.0719 - acc: 0.9722 - val_loss: 0.0173 - val_acc: 0.9882\n",
            "Epoch 70/100\n",
            "50000/50000 [==============================] - 72s 1ms/sample - loss: 0.0692 - acc: 0.9726 - val_loss: 0.0168 - val_acc: 0.9892\n",
            "Epoch 71/100\n",
            "50000/50000 [==============================] - 73s 1ms/sample - loss: 0.0659 - acc: 0.9746 - val_loss: 0.0171 - val_acc: 0.9888\n",
            "Epoch 72/100\n",
            "50000/50000 [==============================] - 72s 1ms/sample - loss: 0.0689 - acc: 0.9730 - val_loss: 0.0169 - val_acc: 0.9880\n",
            "Epoch 73/100\n",
            "50000/50000 [==============================] - 73s 1ms/sample - loss: 0.0680 - acc: 0.9745 - val_loss: 0.0187 - val_acc: 0.9874\n",
            "Epoch 74/100\n",
            "50000/50000 [==============================] - 73s 1ms/sample - loss: 0.0670 - acc: 0.9744 - val_loss: 0.0168 - val_acc: 0.9884\n",
            "Epoch 75/100\n",
            "50000/50000 [==============================] - 72s 1ms/sample - loss: 0.0663 - acc: 0.9740 - val_loss: 0.0180 - val_acc: 0.9878\n",
            "Epoch 76/100\n",
            "50000/50000 [==============================] - 74s 1ms/sample - loss: 0.0635 - acc: 0.9759 - val_loss: 0.0161 - val_acc: 0.9884\n",
            "Epoch 77/100\n",
            "50000/50000 [==============================] - 72s 1ms/sample - loss: 0.0615 - acc: 0.9758 - val_loss: 0.0170 - val_acc: 0.9880\n",
            "Epoch 78/100\n",
            "50000/50000 [==============================] - 73s 1ms/sample - loss: 0.0659 - acc: 0.9739 - val_loss: 0.0166 - val_acc: 0.9884\n",
            "Epoch 79/100\n",
            "50000/50000 [==============================] - 71s 1ms/sample - loss: 0.0637 - acc: 0.9761 - val_loss: 0.0159 - val_acc: 0.9888\n",
            "Epoch 80/100\n",
            "50000/50000 [==============================] - 73s 1ms/sample - loss: 0.0617 - acc: 0.9762 - val_loss: 0.0175 - val_acc: 0.9880\n",
            "Epoch 81/100\n",
            "50000/50000 [==============================] - 73s 1ms/sample - loss: 0.0600 - acc: 0.9768 - val_loss: 0.0163 - val_acc: 0.9886\n",
            "Epoch 82/100\n",
            "50000/50000 [==============================] - 74s 1ms/sample - loss: 0.0607 - acc: 0.9761 - val_loss: 0.0157 - val_acc: 0.9886\n",
            "Epoch 83/100\n",
            "50000/50000 [==============================] - 73s 1ms/sample - loss: 0.0619 - acc: 0.9761 - val_loss: 0.0162 - val_acc: 0.9888\n",
            "Epoch 84/100\n",
            "50000/50000 [==============================] - 73s 1ms/sample - loss: 0.0598 - acc: 0.9772 - val_loss: 0.0153 - val_acc: 0.9896\n",
            "Epoch 85/100\n",
            "50000/50000 [==============================] - 74s 1ms/sample - loss: 0.0603 - acc: 0.9767 - val_loss: 0.0160 - val_acc: 0.9896\n",
            "Epoch 86/100\n",
            "50000/50000 [==============================] - 73s 1ms/sample - loss: 0.0567 - acc: 0.9784 - val_loss: 0.0160 - val_acc: 0.9892\n",
            "Epoch 87/100\n",
            "50000/50000 [==============================] - 73s 1ms/sample - loss: 0.0573 - acc: 0.9779 - val_loss: 0.0173 - val_acc: 0.9888\n",
            "Epoch 88/100\n",
            "50000/50000 [==============================] - 72s 1ms/sample - loss: 0.0587 - acc: 0.9776 - val_loss: 0.0156 - val_acc: 0.9892\n",
            "Epoch 89/100\n",
            "50000/50000 [==============================] - 74s 1ms/sample - loss: 0.0582 - acc: 0.9778 - val_loss: 0.0156 - val_acc: 0.9888\n",
            "Epoch 90/100\n",
            "50000/50000 [==============================] - 74s 1ms/sample - loss: 0.0583 - acc: 0.9775 - val_loss: 0.0161 - val_acc: 0.9894\n",
            "Epoch 91/100\n",
            "50000/50000 [==============================] - 75s 2ms/sample - loss: 0.0563 - acc: 0.9789 - val_loss: 0.0155 - val_acc: 0.9890\n",
            "Epoch 92/100\n",
            "50000/50000 [==============================] - 74s 1ms/sample - loss: 0.0537 - acc: 0.9793 - val_loss: 0.0145 - val_acc: 0.9896\n",
            "Epoch 93/100\n",
            "50000/50000 [==============================] - 73s 1ms/sample - loss: 0.0561 - acc: 0.9783 - val_loss: 0.0153 - val_acc: 0.9896\n",
            "Epoch 94/100\n",
            "50000/50000 [==============================] - 74s 1ms/sample - loss: 0.0536 - acc: 0.9796 - val_loss: 0.0156 - val_acc: 0.9892\n",
            "Epoch 95/100\n",
            "50000/50000 [==============================] - 74s 1ms/sample - loss: 0.0559 - acc: 0.9787 - val_loss: 0.0154 - val_acc: 0.9884\n",
            "Epoch 96/100\n",
            "50000/50000 [==============================] - 73s 1ms/sample - loss: 0.0522 - acc: 0.9802 - val_loss: 0.0154 - val_acc: 0.9892\n",
            "Epoch 97/100\n",
            "50000/50000 [==============================] - 75s 2ms/sample - loss: 0.0545 - acc: 0.9795 - val_loss: 0.0151 - val_acc: 0.9888\n",
            "Epoch 98/100\n",
            "50000/50000 [==============================] - 75s 1ms/sample - loss: 0.0558 - acc: 0.9792 - val_loss: 0.0145 - val_acc: 0.9890\n",
            "Epoch 99/100\n",
            "50000/50000 [==============================] - 72s 1ms/sample - loss: 0.0548 - acc: 0.9802 - val_loss: 0.0148 - val_acc: 0.9890\n",
            "Epoch 100/100\n",
            "50000/50000 [==============================] - 72s 1ms/sample - loss: 0.0543 - acc: 0.9794 - val_loss: 0.0150 - val_acc: 0.9888\n"
          ],
          "name": "stdout"
        },
        {
          "output_type": "execute_result",
          "data": {
            "text/plain": [
              "<tensorflow.python.keras.callbacks.History at 0x7f403816edd8>"
            ]
          },
          "metadata": {
            "tags": []
          },
          "execution_count": 50
        }
      ]
    },
    {
      "metadata": {
        "id": "CQK4k5HLJLRa",
        "colab_type": "code",
        "outputId": "04263889-d932-465c-ed5b-810f6fd85b34",
        "colab": {
          "base_uri": "https://localhost:8080/",
          "height": 54
        }
      },
      "cell_type": "code",
      "source": [
        "model.save('quora_duplicates_feb19.h5')"
      ],
      "execution_count": 0,
      "outputs": [
        {
          "output_type": "stream",
          "text": [
            "WARNING:tensorflow:TensorFlow optimizers do not make it possible to access optimizer attributes or optimizer state after instantiation. As a result, we cannot save the optimizer as part of the model save file.You will have to compile your model again after loading it. Prefer using a Keras optimizer instead (see keras.io/optimizers).\n"
          ],
          "name": "stdout"
        }
      ]
    },
    {
      "metadata": {
        "id": "tPPkjCTOqAYj",
        "colab_type": "code",
        "colab": {}
      },
      "cell_type": "code",
      "source": [
        "from google.colab import auth\n",
        "from googleapiclient.http import MediaFileUpload\n",
        "from googleapiclient.discovery import build"
      ],
      "execution_count": 0,
      "outputs": []
    },
    {
      "metadata": {
        "id": "sNePN8NBoSY7",
        "colab_type": "code",
        "outputId": "4ea5b6ff-aa3b-4f40-bd78-763299d9407f",
        "colab": {
          "base_uri": "https://localhost:8080/",
          "height": 51
        }
      },
      "cell_type": "code",
      "source": [
        "drive_service = build('drive', 'v3')\n",
        "\n",
        "def save_file_to_drive(name, path):\n",
        "    file_metadata = {\n",
        "      'name': name,\n",
        "      'mimeType': 'application/octet-stream'\n",
        "     }\n",
        "\n",
        "    media = MediaFileUpload(path, \n",
        "                    mimetype='application/octet-stream',\n",
        "                    resumable=True)\n",
        "\n",
        "    created = drive_service.files().create(body=file_metadata,\n",
        "                                   media_body=media,\n",
        "                                   fields='id').execute()\n",
        "\n",
        "    print('File ID: {}'.format(created.get('id')))\n",
        "\n",
        "    return created\n",
        "\n",
        "save_file_to_drive(\"quora_duplicates_feb19.h5\", \"./quora_duplicates_feb19.h5\")"
      ],
      "execution_count": 0,
      "outputs": [
        {
          "output_type": "stream",
          "text": [
            "File ID: 1v1fTQgqcjM8uUfMkc3ZzxvaMga9S9uy6\n"
          ],
          "name": "stdout"
        },
        {
          "output_type": "execute_result",
          "data": {
            "text/plain": [
              "{'id': '1v1fTQgqcjM8uUfMkc3ZzxvaMga9S9uy6'}"
            ]
          },
          "metadata": {
            "tags": []
          },
          "execution_count": 58
        }
      ]
    },
    {
      "metadata": {
        "id": "hCpNWQYGuNsc",
        "colab_type": "code",
        "colab": {}
      },
      "cell_type": "code",
      "source": [
        ""
      ],
      "execution_count": 0,
      "outputs": []
    },
    {
      "metadata": {
        "id": "pgj11CECvZxg",
        "colab_type": "code",
        "colab": {}
      },
      "cell_type": "code",
      "source": [
        ""
      ],
      "execution_count": 0,
      "outputs": []
    },
    {
      "metadata": {
        "id": "Dq8YvJCuvsuU",
        "colab_type": "code",
        "colab": {}
      },
      "cell_type": "code",
      "source": [
        ""
      ],
      "execution_count": 0,
      "outputs": []
    },
    {
      "metadata": {
        "id": "yC6I_wqy5Wrd",
        "colab_type": "code",
        "colab": {}
      },
      "cell_type": "code",
      "source": [
        ""
      ],
      "execution_count": 0,
      "outputs": []
    },
    {
      "metadata": {
        "id": "yz4PAWH35wP4",
        "colab_type": "code",
        "colab": {}
      },
      "cell_type": "code",
      "source": [
        ""
      ],
      "execution_count": 0,
      "outputs": []
    },
    {
      "metadata": {
        "id": "nW1uHO0v6JqT",
        "colab_type": "code",
        "colab": {}
      },
      "cell_type": "code",
      "source": [
        ""
      ],
      "execution_count": 0,
      "outputs": []
    }
  ]
}